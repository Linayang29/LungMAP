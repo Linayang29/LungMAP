{
 "cells": [
  {
   "cell_type": "markdown",
   "metadata": {},
   "source": [
    "Resources\n",
    "===="
   ]
  },
  {
   "cell_type": "markdown",
   "metadata": {},
   "source": [
    "## LungMAP\n",
    "\n",
    "- [LungMAP](http://www.lungmap.net)"
   ]
  },
  {
   "cell_type": "markdown",
   "metadata": {},
   "source": [
    "## Biology\n",
    "\n",
    "- ![Picture](http://journal.publications.chestnet.org/data/Journals/CHEST/22059/zcb0040708010001.jpeg)\n",
    "- [Respiratory development)](https://embryology.med.unsw.edu.au/embryology/index.php/Respiratory_System_Development)\n",
    "- [Lung development video (jump to 2:11)](https://www.youtube.com/watch?v=Nvo8XGMSCwU)\n"
   ]
  },
  {
   "cell_type": "markdown",
   "metadata": {},
   "source": [
    "## Git\n",
    "\n",
    "- [Git tutorial](https://www.atlassian.com/landing/git/tutorial/git-basics)\n",
    "\n"
   ]
  },
  {
   "cell_type": "markdown",
   "metadata": {},
   "source": [
    "## Jupyter\n",
    "\n",
    "- [Tutorial 1](https://www.youtube.com/watch?v=Rc4JQWowG5I)\n",
    "- [Tutorial 2](https://www.youtube.com/watch?v=-F4WS8o-G2A)\n",
    "- [Tutorial 3](https://www.youtube.com/watch?v=1I2Bz0qbMsc)\n"
   ]
  },
  {
   "cell_type": "markdown",
   "metadata": {},
   "source": [
    "## Python\n",
    "\n",
    "- [Think Python 2e](http://greenteapress.com/wp/think-python-2e/)\n"
   ]
  },
  {
   "cell_type": "markdown",
   "metadata": {},
   "source": [
    "## Image analysis\n",
    "\n",
    "- [OpenCV tutorials](http://opencv-python-tutroals.readthedocs.io/en/latest/py_tutorials/py_tutorials.html)\n"
   ]
  },
  {
   "cell_type": "markdown",
   "metadata": {},
   "source": [
    "## Machine learning\n",
    "\n",
    "- [Scikit-learn tutorial](http://scikit-learn.org/stable/tutorial/index.html)"
   ]
  },
  {
   "cell_type": "code",
   "execution_count": null,
   "metadata": {
    "collapsed": true
   },
   "outputs": [],
   "source": []
  }
 ],
 "metadata": {
  "kernelspec": {
   "display_name": "Python 3",
   "language": "python",
   "name": "python3"
  },
  "language_info": {
   "codemirror_mode": {
    "name": "ipython",
    "version": 3
   },
   "file_extension": ".py",
   "mimetype": "text/x-python",
   "name": "python",
   "nbconvert_exporter": "python",
   "pygments_lexer": "ipython3",
   "version": "3.5.1"
  }
 },
 "nbformat": 4,
 "nbformat_minor": 0
}
